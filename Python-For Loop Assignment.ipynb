{
 "cells": [
  {
   "cell_type": "code",
   "execution_count": 1,
   "id": "895bfd4d-c9ce-4426-b219-c1be1ed13773",
   "metadata": {},
   "outputs": [
    {
     "name": "stdout",
     "output_type": "stream",
     "text": [
      "1\n",
      "2\n",
      "3\n",
      "4\n",
      "5\n",
      "6\n",
      "7\n",
      "8\n",
      "9\n",
      "10\n"
     ]
    }
   ],
   "source": [
    "for number in range(1, 11):\n",
    "    print(number)\n"
   ]
  },
  {
   "cell_type": "code",
   "execution_count": 2,
   "id": "4d7e7faa-b03f-49a0-897b-4a091ad728df",
   "metadata": {},
   "outputs": [
    {
     "name": "stdout",
     "output_type": "stream",
     "text": [
      "15\n"
     ]
    }
   ],
   "source": [
    "sum=0\n",
    "for x in [1,2,3,4,5]:\n",
    "      sum = sum + x\n",
    "\n",
    "print(sum)"
   ]
  },
  {
   "cell_type": "code",
   "execution_count": 3,
   "id": "0042a7cb-4de1-40dd-a148-eb443825f528",
   "metadata": {},
   "outputs": [
    {
     "name": "stdout",
     "output_type": "stream",
     "text": [
      "ayiram"
     ]
    }
   ],
   "source": [
    "input_string=\"mariya\"\n",
    "for char in reversed(input_string):\n",
    "    print(char, end=\"\")"
   ]
  },
  {
   "cell_type": "code",
   "execution_count": 4,
   "id": "cd6b157c-853e-4c16-be93-321404514408",
   "metadata": {},
   "outputs": [
    {
     "name": "stdin",
     "output_type": "stream",
     "text": [
      "Enter a number:  5\n"
     ]
    },
    {
     "name": "stdout",
     "output_type": "stream",
     "text": [
      "The factorial of 5 is: 120\n"
     ]
    }
   ],
   "source": [
    "def factorial(n):\n",
    "    result = 1\n",
    "    for i in range(1, n + 1):\n",
    "        result *= i\n",
    "    return result\n",
    "\n",
    "# the number for which factorial needs to be calculated\n",
    "number = int(input(\"Enter a number: \"))\n",
    "\n",
    "if number < 0:\n",
    "    print(\"Factorial is not defined for negative numbers.\")\n",
    "else:\n",
    "    print(f\"The factorial of {number} is: {factorial(number)}\")\n"
   ]
  },
  {
   "cell_type": "code",
   "execution_count": 5,
   "id": "169bb2a4-fa24-4eec-961e-5f4e4d675f7c",
   "metadata": {},
   "outputs": [
    {
     "name": "stdout",
     "output_type": "stream",
     "text": [
      "5 * 1 = 5\n",
      "5 * 2 = 10\n",
      "5 * 3 = 15\n",
      "5 * 4 = 20\n",
      "5 * 5 = 25\n",
      "5 * 6 = 30\n",
      "5 * 7 = 35\n",
      "5 * 8 = 40\n",
      "5 * 9 = 45\n",
      "5 * 10 = 50\n"
     ]
    }
   ],
   "source": [
    "def table(n):\n",
    "\tfor i in range (1, 11): \n",
    "\t\t\n",
    "\t\tprint (\"%d * %d = %d\"%(n, i,n * i))\n",
    "\n",
    "n = 5\n",
    "table(n)"
   ]
  },
  {
   "cell_type": "code",
   "execution_count": 6,
   "id": "8135e1fe-ae09-443d-a81e-776e2dedfe01",
   "metadata": {},
   "outputs": [
    {
     "name": "stdout",
     "output_type": "stream",
     "text": [
      "Number of even numbers: 5\n",
      "Number of odd numbers: 5\n"
     ]
    }
   ],
   "source": [
    "numbers_list = [1, 2, 3, 4, 5, 6, 7, 8, 9, 10]\n",
    "\n",
    "even_number = 0\n",
    "odd_number = 0\n",
    "\n",
    "for number in numbers_list:\n",
    "    if number % 2 == 0:\n",
    "        even_number += 1\n",
    "    else:\n",
    "        odd_number += 1\n",
    "\n",
    "# Print the results\n",
    "print(\"Number of even numbers:\", even_number)\n",
    "print(\"Number of odd numbers:\", odd_number)\n"
   ]
  },
  {
   "cell_type": "code",
   "execution_count": 7,
   "id": "3569781b-71d9-4909-a5d4-06145b847f61",
   "metadata": {},
   "outputs": [
    {
     "name": "stdout",
     "output_type": "stream",
     "text": [
      "The square of 1 is: 1\n",
      "The square of 2 is: 4\n",
      "The square of 3 is: 9\n",
      "The square of 4 is: 16\n",
      "The square of 5 is: 25\n"
     ]
    }
   ],
   "source": [
    "for number in range(1, 6):\n",
    "    square = number ** 2\n",
    "    print(f\"The square of {number} is: {square}\")"
   ]
  },
  {
   "cell_type": "code",
   "execution_count": 8,
   "id": "e9cfb62e-caf8-4a81-a107-273ef25d791a",
   "metadata": {},
   "outputs": [
    {
     "name": "stdin",
     "output_type": "stream",
     "text": [
      "Enter a string:  mariya\n"
     ]
    },
    {
     "name": "stdout",
     "output_type": "stream",
     "text": [
      "The length of the string is 6\n"
     ]
    }
   ],
   "source": [
    "# Input a string\n",
    "input_string = input(\"Enter a string: \")\n",
    "\n",
    "length = 0\n",
    "for char in input_string:\n",
    "    length += 1\n",
    "\n",
    "print(f\"The length of the string is {length}\")\n"
   ]
  },
  {
   "cell_type": "code",
   "execution_count": 9,
   "id": "54c17735-6096-4f98-ac56-7438e6abeb61",
   "metadata": {},
   "outputs": [
    {
     "name": "stdout",
     "output_type": "stream",
     "text": [
      "The average of the numbers is 5.5\n"
     ]
    }
   ],
   "source": [
    "numbers_list = [1, 2, 3, 4, 5, 6, 7, 8, 9, 10]\n",
    "\n",
    "sum_of_numbers = 0\n",
    "count = 0\n",
    "\n",
    "for number in numbers_list:\n",
    "    sum_of_numbers += number\n",
    "\n",
    "    count += 1\n",
    "\n",
    "average = sum_of_numbers / count\n",
    "\n",
    "print(f\"The average of the numbers is {average}\")"
   ]
  },
  {
   "cell_type": "code",
   "execution_count": 10,
   "id": "f413f963-692d-4d12-9470-a00e4068dc22",
   "metadata": {},
   "outputs": [
    {
     "name": "stdin",
     "output_type": "stream",
     "text": [
      "Enter the number of Fibonacci numbers to print:  4\n"
     ]
    },
    {
     "name": "stdout",
     "output_type": "stream",
     "text": [
      "The first 4 Fibonacci numbers are: [0, 1, 1, 2]\n"
     ]
    }
   ],
   "source": [
    "def fibonacci(n):\n",
    "    fib_sequence = [0, 1]\n",
    "    for i in range(2, n):\n",
    "        fib_sequence.append(fib_sequence[-1] + fib_sequence[-2])\n",
    "    return fib_sequence\n",
    "\n",
    "n = int(input(\"Enter the number of Fibonacci numbers to print: \"))\n",
    "\n",
    "\n",
    "fibonacci_sequence = fibonacci(n)\n",
    "\n",
    "print(f\"The first {n} Fibonacci numbers are: {fibonacci_sequence}\")\n"
   ]
  },
  {
   "cell_type": "code",
   "execution_count": 11,
   "id": "7283bdc0-d37e-4f0d-9306-3eaf2f3f5d27",
   "metadata": {},
   "outputs": [
    {
     "name": "stdout",
     "output_type": "stream",
     "text": [
      "The list does not contain duplicates.\n"
     ]
    }
   ],
   "source": [
    "def has_duplicates(lst):\n",
    "    seen = set()\n",
    "    for element in lst:\n",
    "        if element in seen:\n",
    "            return True\n",
    "        seen.add(element)\n",
    "    return False\n",
    "numbers_list = [1, 2, 3, 4, 5, 6, 7, 8, 9, 10]\n",
    "\n",
    "if has_duplicates(numbers_list):\n",
    "    print(\"The list contains duplicates.\")\n",
    "else:\n",
    "    print(\"The list does not contain duplicates.\")\n"
   ]
  },
  {
   "cell_type": "code",
   "execution_count": 12,
   "id": "eff83f33-b1d9-4fa2-9dce-f7bed02a2108",
   "metadata": {},
   "outputs": [
    {
     "name": "stdin",
     "output_type": "stream",
     "text": [
      "Enter the starting range:  2\n",
      "Enter the ending range:  8\n"
     ]
    },
    {
     "name": "stdout",
     "output_type": "stream",
     "text": [
      "Prime numbers in the range 2 to 8:\n",
      "2\n",
      "3\n",
      "5\n",
      "7\n"
     ]
    }
   ],
   "source": [
    "def is_prime(num):\n",
    "    if num < 2:\n",
    "        return False\n",
    "    for i in range(2, int(num**0.5) + 1):\n",
    "        if num % i == 0:\n",
    "            return False\n",
    "    return True\n",
    "\n",
    "start_range = int(input(\"Enter the starting range: \"))\n",
    "end_range = int(input(\"Enter the ending range: \"))\n",
    "\n",
    "\n",
    "print(f\"Prime numbers in the range {start_range} to {end_range}:\")\n",
    "for number in range(start_range, end_range + 1):\n",
    "    if is_prime(number):\n",
    "        print(number)\n"
   ]
  },
  {
   "cell_type": "code",
   "execution_count": 13,
   "id": "c58311e8-077a-45d8-9862-7ba76b4fff97",
   "metadata": {},
   "outputs": [
    {
     "name": "stdin",
     "output_type": "stream",
     "text": [
      "Enter a string:  mariya\n"
     ]
    },
    {
     "name": "stdout",
     "output_type": "stream",
     "text": [
      "The number of vowels in the string is: 3\n"
     ]
    }
   ],
   "source": [
    "def count_vowels(input_string):\n",
    "    vowels = \"aeiouAEIOU\"\n",
    "    vowel_count = 0\n",
    "\n",
    "    for char in input_string:\n",
    "        if char in vowels:\n",
    "            vowel_count += 1\n",
    "\n",
    "    return vowel_count\n",
    "\n",
    "input_string = input(\"Enter a string: \")\n",
    "result = count_vowels(input_string)\n",
    "print(f\"The number of vowels in the string is: {result}\")\n"
   ]
  },
  {
   "cell_type": "code",
   "execution_count": 14,
   "id": "7cd15f5d-a92f-4fb8-b701-a2c977c0c4b7",
   "metadata": {},
   "outputs": [
    {
     "name": "stdout",
     "output_type": "stream",
     "text": [
      "The maximum element in the 2D list is: 9\n"
     ]
    }
   ],
   "source": [
    "def find_max_element(matrix):\n",
    "    max_element = matrix[0][0]\n",
    "    for row in matrix:\n",
    "        for element in row:\n",
    "            if element > max_element:\n",
    "                max_element = element\n",
    "    return max_element\n",
    "\n",
    "\n",
    "matrix = [\n",
    "    [1, 2, 3],\n",
    "    [4, 5, 6],\n",
    "    [7, 8, 9]\n",
    "]\n",
    "\n",
    "\n",
    "max_element = find_max_element(matrix)\n",
    "print(\"The maximum element in the 2D list is:\", max_element)\n"
   ]
  },
  {
   "cell_type": "code",
   "execution_count": 15,
   "id": "b287e7c1-25da-4bc2-aeaa-9b46913cf0a2",
   "metadata": {},
   "outputs": [
    {
     "name": "stdin",
     "output_type": "stream",
     "text": [
      "Enter the element to remove:  2\n"
     ]
    },
    {
     "name": "stdout",
     "output_type": "stream",
     "text": [
      "Original List: [1, 2, 3, 2, 4, 6, 5]\n",
      "List after removing 2: [1, 3, 4, 6, 5]\n"
     ]
    }
   ],
   "source": [
    "def remove_element(input_list, target_element):\n",
    "    modified_list = [item for item in input_list if item != target_element]\n",
    "    return modified_list\n",
    "\n",
    "original_list = [1, 2, 3, 2, 4, 6, 5]\n",
    "\n",
    "element_to_remove = int(input(\"Enter the element to remove: \"))\n",
    "\n",
    "updated_list = remove_element(original_list, element_to_remove)\n",
    "\n",
    "print(\"Original List:\", original_list)\n",
    "print(f\"List after removing {element_to_remove}:\", updated_list)\n"
   ]
  },
  {
   "cell_type": "code",
   "execution_count": 16,
   "id": "e6127d54-c895-4ef0-9a15-84769ceac422",
   "metadata": {},
   "outputs": [
    {
     "name": "stdout",
     "output_type": "stream",
     "text": [
      "\n",
      "Multiplication table for 1:\n",
      "1 x 1 = 1\n",
      "1 x 2 = 2\n",
      "1 x 3 = 3\n",
      "1 x 4 = 4\n",
      "1 x 5 = 5\n",
      "1 x 6 = 6\n",
      "1 x 7 = 7\n",
      "1 x 8 = 8\n",
      "1 x 9 = 9\n",
      "1 x 10 = 10\n",
      "\n",
      "Multiplication table for 2:\n",
      "2 x 1 = 2\n",
      "2 x 2 = 4\n",
      "2 x 3 = 6\n",
      "2 x 4 = 8\n",
      "2 x 5 = 10\n",
      "2 x 6 = 12\n",
      "2 x 7 = 14\n",
      "2 x 8 = 16\n",
      "2 x 9 = 18\n",
      "2 x 10 = 20\n",
      "\n",
      "Multiplication table for 3:\n",
      "3 x 1 = 3\n",
      "3 x 2 = 6\n",
      "3 x 3 = 9\n",
      "3 x 4 = 12\n",
      "3 x 5 = 15\n",
      "3 x 6 = 18\n",
      "3 x 7 = 21\n",
      "3 x 8 = 24\n",
      "3 x 9 = 27\n",
      "3 x 10 = 30\n",
      "\n",
      "Multiplication table for 4:\n",
      "4 x 1 = 4\n",
      "4 x 2 = 8\n",
      "4 x 3 = 12\n",
      "4 x 4 = 16\n",
      "4 x 5 = 20\n",
      "4 x 6 = 24\n",
      "4 x 7 = 28\n",
      "4 x 8 = 32\n",
      "4 x 9 = 36\n",
      "4 x 10 = 40\n",
      "\n",
      "Multiplication table for 5:\n",
      "5 x 1 = 5\n",
      "5 x 2 = 10\n",
      "5 x 3 = 15\n",
      "5 x 4 = 20\n",
      "5 x 5 = 25\n",
      "5 x 6 = 30\n",
      "5 x 7 = 35\n",
      "5 x 8 = 40\n",
      "5 x 9 = 45\n",
      "5 x 10 = 50\n"
     ]
    }
   ],
   "source": [
    "start_number = 1\n",
    "end_number = 5\n",
    "\n",
    "for i in range(start_number, end_number + 1):\n",
    "    print(f\"\\nMultiplication table for {i}:\")\n",
    "\n",
    "    for j in range(1, 11):\n",
    "        result = i * j\n",
    "        print(f\"{i} x {j} = {result}\")\n"
   ]
  },
  {
   "cell_type": "code",
   "execution_count": 17,
   "id": "b6eff988-ab4e-46fa-bcc3-83ffb716cfc4",
   "metadata": {},
   "outputs": [
    {
     "name": "stdout",
     "output_type": "stream",
     "text": [
      "Fahrenheit Temperatures: [32, 68, 86, 104, 212]\n",
      "Celsius Temperatures: [0.0, 20.0, 30.0, 40.0, 100.0]\n"
     ]
    }
   ],
   "source": [
    "def fahrenheit_to_celsius(fahrenheit):\n",
    "    return (fahrenheit - 32) * 5/9\n",
    "\n",
    "# list of Fahrenheit temperatures \n",
    "fahrenheit_temperatures = [32, 68, 86, 104, 212]\n",
    "\n",
    "# empty list to store Celsius temperatures\n",
    "celsius_temperatures = []\n",
    "\n",
    "# Fahrenheit temperature to Celsius using a for loop\n",
    "for temp in fahrenheit_temperatures:\n",
    "    celsius_temp = fahrenheit_to_celsius(temp)\n",
    "    celsius_temperatures.append(celsius_temp)\n",
    "\n",
    "print(\"Fahrenheit Temperatures:\", fahrenheit_temperatures)\n",
    "print(\"Celsius Temperatures:\", celsius_temperatures)\n"
   ]
  },
  {
   "cell_type": "code",
   "execution_count": 18,
   "id": "770b61d4-9f39-484a-bf74-7cf343f26f92",
   "metadata": {},
   "outputs": [
    {
     "name": "stdout",
     "output_type": "stream",
     "text": [
      "The common elements are: [3, 4, 5]\n"
     ]
    }
   ],
   "source": [
    "def find_common_elements(list1, list2):\n",
    "    common_elements = []\n",
    "\n",
    "    for element in list1:\n",
    "        if element in list2 and element not in common_elements:\n",
    "            common_elements.append(element)\n",
    "\n",
    "    return common_elements\n",
    "\n",
    "list1 = [1, 2, 3, 4, 5]\n",
    "list2 = [3, 4, 5, 6, 7]\n",
    "\n",
    "common_elements = find_common_elements(list1, list2)\n",
    "\n",
    "if common_elements:\n",
    "    print(f\"The common elements are: {common_elements}\")\n",
    "else:\n",
    "    print(\"There are no common elements.\")"
   ]
  },
  {
   "cell_type": "code",
   "execution_count": 19,
   "id": "e19f049a-4fc6-42a6-a2a9-6402c1f51d35",
   "metadata": {},
   "outputs": [
    {
     "name": "stdin",
     "output_type": "stream",
     "text": [
      "Enter the number of rows for the pattern:  4\n"
     ]
    },
    {
     "name": "stdout",
     "output_type": "stream",
     "text": [
      "* \n",
      "* * \n",
      "* * * \n",
      "* * * * \n"
     ]
    }
   ],
   "source": [
    "num_rows = int(input(\"Enter the number of rows for the pattern: \"))\n",
    "\n",
    "\n",
    "for i in range(1, num_rows + 1):\n",
    "    for j in range(1, i + 1):\n",
    "        print('*', end=' ')\n",
    "    print()\n"
   ]
  },
  {
   "cell_type": "code",
   "execution_count": 20,
   "id": "86d6dd9b-4599-4ae9-b5e8-7b50f7c730b2",
   "metadata": {},
   "outputs": [
    {
     "name": "stdin",
     "output_type": "stream",
     "text": [
      "Enter the first number:  1\n",
      "Enter the second number:  5\n"
     ]
    },
    {
     "name": "stdout",
     "output_type": "stream",
     "text": [
      "The GCD of 1 and 5 is: 1\n"
     ]
    }
   ],
   "source": [
    "def find_gcd(a, b):\n",
    "    smaller = min(a, b)\n",
    "    gcd = 1\n",
    "\n",
    "    for i in range(1, smaller + 1):\n",
    "        if a % i == 0 and b % i == 0:\n",
    "            gcd = i\n",
    "\n",
    "    return gcd\n",
    "\n",
    "num1 = int(input(\"Enter the first number: \"))\n",
    "num2 = int(input(\"Enter the second number: \"))\n",
    "\n",
    "result_gcd = find_gcd(num1, num2)\n",
    "print(f\"The GCD of {num1} and {num2} is: {result_gcd}\")\n"
   ]
  },
  {
   "cell_type": "code",
   "execution_count": 21,
   "id": "308339f2-43c0-4f59-b9fe-5b08605ccd0c",
   "metadata": {},
   "outputs": [
    {
     "ename": "TypeError",
     "evalue": "'int' object is not callable",
     "output_type": "error",
     "traceback": [
      "\u001b[0;31m---------------------------------------------------------------------------\u001b[0m",
      "\u001b[0;31mTypeError\u001b[0m                                 Traceback (most recent call last)",
      "Cell \u001b[0;32mIn[21], line 5\u001b[0m\n\u001b[1;32m      2\u001b[0m     \u001b[38;5;28;01mreturn\u001b[39;00m \u001b[38;5;28msum\u001b[39m(\u001b[38;5;28mint\u001b[39m(digit) \u001b[38;5;28;01mfor\u001b[39;00m digit \u001b[38;5;129;01min\u001b[39;00m \u001b[38;5;28mstr\u001b[39m(\u001b[38;5;28mabs\u001b[39m(number)))\n\u001b[1;32m      4\u001b[0m numbers_list \u001b[38;5;241m=\u001b[39m [\u001b[38;5;241m123\u001b[39m, \u001b[38;5;241m456\u001b[39m, \u001b[38;5;241m789\u001b[39m, \u001b[38;5;241m-\u001b[39m\u001b[38;5;241m321\u001b[39m]\n\u001b[0;32m----> 5\u001b[0m sums_list \u001b[38;5;241m=\u001b[39m [sum_of_digits(number) \u001b[38;5;28;01mfor\u001b[39;00m number \u001b[38;5;129;01min\u001b[39;00m numbers_list]\n\u001b[1;32m      8\u001b[0m \u001b[38;5;28mprint\u001b[39m(\u001b[38;5;124m\"\u001b[39m\u001b[38;5;124mOriginal Numbers:\u001b[39m\u001b[38;5;124m\"\u001b[39m, numbers_list)\n\u001b[1;32m      9\u001b[0m \u001b[38;5;28mprint\u001b[39m(\u001b[38;5;124m\"\u001b[39m\u001b[38;5;124mSum of Digits for Each Number \u001b[39m\u001b[38;5;124m\"\u001b[39m, sums_list)\n",
      "Cell \u001b[0;32mIn[21], line 5\u001b[0m, in \u001b[0;36m<listcomp>\u001b[0;34m(.0)\u001b[0m\n\u001b[1;32m      2\u001b[0m     \u001b[38;5;28;01mreturn\u001b[39;00m \u001b[38;5;28msum\u001b[39m(\u001b[38;5;28mint\u001b[39m(digit) \u001b[38;5;28;01mfor\u001b[39;00m digit \u001b[38;5;129;01min\u001b[39;00m \u001b[38;5;28mstr\u001b[39m(\u001b[38;5;28mabs\u001b[39m(number)))\n\u001b[1;32m      4\u001b[0m numbers_list \u001b[38;5;241m=\u001b[39m [\u001b[38;5;241m123\u001b[39m, \u001b[38;5;241m456\u001b[39m, \u001b[38;5;241m789\u001b[39m, \u001b[38;5;241m-\u001b[39m\u001b[38;5;241m321\u001b[39m]\n\u001b[0;32m----> 5\u001b[0m sums_list \u001b[38;5;241m=\u001b[39m [\u001b[43msum_of_digits\u001b[49m\u001b[43m(\u001b[49m\u001b[43mnumber\u001b[49m\u001b[43m)\u001b[49m \u001b[38;5;28;01mfor\u001b[39;00m number \u001b[38;5;129;01min\u001b[39;00m numbers_list]\n\u001b[1;32m      8\u001b[0m \u001b[38;5;28mprint\u001b[39m(\u001b[38;5;124m\"\u001b[39m\u001b[38;5;124mOriginal Numbers:\u001b[39m\u001b[38;5;124m\"\u001b[39m, numbers_list)\n\u001b[1;32m      9\u001b[0m \u001b[38;5;28mprint\u001b[39m(\u001b[38;5;124m\"\u001b[39m\u001b[38;5;124mSum of Digits for Each Number \u001b[39m\u001b[38;5;124m\"\u001b[39m, sums_list)\n",
      "Cell \u001b[0;32mIn[21], line 2\u001b[0m, in \u001b[0;36msum_of_digits\u001b[0;34m(number)\u001b[0m\n\u001b[1;32m      1\u001b[0m \u001b[38;5;28;01mdef\u001b[39;00m \u001b[38;5;21msum_of_digits\u001b[39m(number):\n\u001b[0;32m----> 2\u001b[0m     \u001b[38;5;28;01mreturn\u001b[39;00m \u001b[38;5;28;43msum\u001b[39;49m\u001b[43m(\u001b[49m\u001b[38;5;28;43mint\u001b[39;49m\u001b[43m(\u001b[49m\u001b[43mdigit\u001b[49m\u001b[43m)\u001b[49m\u001b[43m \u001b[49m\u001b[38;5;28;43;01mfor\u001b[39;49;00m\u001b[43m \u001b[49m\u001b[43mdigit\u001b[49m\u001b[43m \u001b[49m\u001b[38;5;129;43;01min\u001b[39;49;00m\u001b[43m \u001b[49m\u001b[38;5;28;43mstr\u001b[39;49m\u001b[43m(\u001b[49m\u001b[38;5;28;43mabs\u001b[39;49m\u001b[43m(\u001b[49m\u001b[43mnumber\u001b[49m\u001b[43m)\u001b[49m\u001b[43m)\u001b[49m\u001b[43m)\u001b[49m\n",
      "\u001b[0;31mTypeError\u001b[0m: 'int' object is not callable"
     ]
    }
   ],
   "source": [
    "def sum_of_digits(number):\n",
    "    return sum(int(digit) for digit in str(abs(number)))\n",
    "\n",
    "numbers_list = [123, 456, 789, -321]\n",
    "sums_list = [sum_of_digits(number) for number in numbers_list]\n",
    "\n",
    "\n",
    "print(\"Original Numbers:\", numbers_list)\n",
    "print(\"Sum of Digits for Each Number \", sums_list)\n"
   ]
  },
  {
   "cell_type": "code",
   "execution_count": 22,
   "id": "9a3e9d51-5906-4bfa-aa72-19dc9dc80b1d",
   "metadata": {},
   "outputs": [
    {
     "name": "stdin",
     "output_type": "stream",
     "text": [
      "Enter a number:  4\n"
     ]
    },
    {
     "name": "stdout",
     "output_type": "stream",
     "text": [
      "The prime factors of 4 are: [2]\n"
     ]
    }
   ],
   "source": [
    "def prime_factors(number):\n",
    "    factors = [factor for factor in range(2, number + 1) if (number % factor == 0 and all(factor % i != 0 for i in range(2, factor)))]\n",
    "    return factors\n",
    "\n",
    "number = int(input(\"Enter a number: \"))\n",
    "\n",
    "\n",
    "if number <= 0:\n",
    "    print(\"Please enter a positive integer.\")\n",
    "else:\n",
    "    \n",
    "    factors_list = prime_factors(number)\n",
    "    \n",
    "    if factors_list:\n",
    "        print(f\"The prime factors of {number} are: {factors_list}\")\n",
    "    else:\n",
    "        print(f\"{number} is a prime number and has no prime factors other than 1 and itself.\")\n"
   ]
  },
  {
   "cell_type": "code",
   "execution_count": 23,
   "id": "fbcfe409-34c4-4134-ac0a-f66345b9dd43",
   "metadata": {},
   "outputs": [
    {
     "name": "stdout",
     "output_type": "stream",
     "text": [
      "Original List: [1, 2, 2, 3, 4, 4, 5, 6, 6, 7]\n",
      "Unique Elements: [1, 2, 3, 4, 5, 6, 7]\n"
     ]
    }
   ],
   "source": [
    "original_list = [1, 2, 2, 3, 4, 4, 5, 6, 6, 7]\n",
    "\n",
    "unique_elements = list(set(element for element in original_list))\n",
    "\n",
    "print(\"Original List:\", original_list)\n",
    "print(\"Unique Elements:\", unique_elements)\n"
   ]
  },
  {
   "cell_type": "code",
   "execution_count": 24,
   "id": "7d8cc584-61c6-44a7-88a1-6d304a1e904a",
   "metadata": {},
   "outputs": [
    {
     "name": "stdin",
     "output_type": "stream",
     "text": [
      "Enter the limit for palindromic numbers:  2\n"
     ]
    },
    {
     "name": "stdout",
     "output_type": "stream",
     "text": [
      "Palindromic numbers up to 2: [0, 1, 2]\n"
     ]
    }
   ],
   "source": [
    "def is_palindrome(number):\n",
    "    return str(number) == str(number)[::-1]\n",
    "\n",
    "limit = int(input(\"Enter the limit for palindromic numbers: \"))\n",
    "\n",
    "palindromic_numbers = [num for num in range(limit + 1) if is_palindrome(num)]\n",
    "\n",
    "print(f\"Palindromic numbers up to {limit}: {palindromic_numbers}\")\n"
   ]
  },
  {
   "cell_type": "code",
   "execution_count": 25,
   "id": "3022463e-0423-4faa-9d6d-1e5bfe527ea9",
   "metadata": {},
   "outputs": [
    {
     "name": "stdout",
     "output_type": "stream",
     "text": [
      "Nested List: [1, [2, 3, [4, 5]], 6, [7, [8, 9]]]\n",
      "Flattened List: [1, 2, 3, 4, 5, 6, 7, 8, 9]\n"
     ]
    }
   ],
   "source": [
    "def flatten_nested_list(nested_list):\n",
    "    return [element for sublist in nested_list for element in (flatten_nested_list(sublist) if isinstance(sublist, list) else [sublist])]\n",
    "\n",
    "nested_list = [1, [2, 3, [4, 5]], 6, [7, [8, 9]]]\n",
    "\n",
    "flattened_list = flatten_nested_list(nested_list)\n",
    "\n",
    "print(\"Nested List:\", nested_list)\n",
    "print(\"Flattened List:\", flattened_list)\n"
   ]
  },
  {
   "cell_type": "code",
   "execution_count": 26,
   "id": "f9dc5111-5e10-4af2-a693-8f1539f4015c",
   "metadata": {},
   "outputs": [
    {
     "ename": "TypeError",
     "evalue": "'int' object is not callable",
     "output_type": "error",
     "traceback": [
      "\u001b[0;31m---------------------------------------------------------------------------\u001b[0m",
      "\u001b[0;31mTypeError\u001b[0m                                 Traceback (most recent call last)",
      "Cell \u001b[0;32mIn[26], line 2\u001b[0m\n\u001b[1;32m      1\u001b[0m numbers_list \u001b[38;5;241m=\u001b[39m [\u001b[38;5;241m1\u001b[39m, \u001b[38;5;241m2\u001b[39m, \u001b[38;5;241m3\u001b[39m, \u001b[38;5;241m4\u001b[39m, \u001b[38;5;241m5\u001b[39m, \u001b[38;5;241m6\u001b[39m, \u001b[38;5;241m7\u001b[39m, \u001b[38;5;241m8\u001b[39m, \u001b[38;5;241m9\u001b[39m, \u001b[38;5;241m10\u001b[39m]\n\u001b[0;32m----> 2\u001b[0m sum_even \u001b[38;5;241m=\u001b[39m \u001b[38;5;28;43msum\u001b[39;49m\u001b[43m(\u001b[49m\u001b[43m[\u001b[49m\u001b[43mnum\u001b[49m\u001b[43m \u001b[49m\u001b[38;5;28;43;01mfor\u001b[39;49;00m\u001b[43m \u001b[49m\u001b[43mnum\u001b[49m\u001b[43m \u001b[49m\u001b[38;5;129;43;01min\u001b[39;49;00m\u001b[43m \u001b[49m\u001b[43mnumbers_list\u001b[49m\u001b[43m \u001b[49m\u001b[38;5;28;43;01mif\u001b[39;49;00m\u001b[43m \u001b[49m\u001b[43mnum\u001b[49m\u001b[43m \u001b[49m\u001b[38;5;241;43m%\u001b[39;49m\u001b[43m \u001b[49m\u001b[38;5;241;43m2\u001b[39;49m\u001b[43m \u001b[49m\u001b[38;5;241;43m==\u001b[39;49m\u001b[43m \u001b[49m\u001b[38;5;241;43m0\u001b[39;49m\u001b[43m]\u001b[49m\u001b[43m)\u001b[49m\n\u001b[1;32m      3\u001b[0m sum_odd \u001b[38;5;241m=\u001b[39m \u001b[38;5;28msum\u001b[39m([num \u001b[38;5;28;01mfor\u001b[39;00m num \u001b[38;5;129;01min\u001b[39;00m numbers_list \u001b[38;5;28;01mif\u001b[39;00m num \u001b[38;5;241m%\u001b[39m \u001b[38;5;241m2\u001b[39m \u001b[38;5;241m!=\u001b[39m \u001b[38;5;241m0\u001b[39m])\n\u001b[1;32m      5\u001b[0m \u001b[38;5;28mprint\u001b[39m(\u001b[38;5;124m\"\u001b[39m\u001b[38;5;124mOriginal List:\u001b[39m\u001b[38;5;124m\"\u001b[39m, numbers_list)\n",
      "\u001b[0;31mTypeError\u001b[0m: 'int' object is not callable"
     ]
    }
   ],
   "source": [
    "numbers_list = [1, 2, 3, 4, 5, 6, 7, 8, 9, 10]\n",
    "sum_even = sum([num for num in numbers_list if num % 2 == 0])\n",
    "sum_odd = sum([num for num in numbers_list if num % 2 != 0])\n",
    "\n",
    "print(\"Original List:\", numbers_list)\n",
    "print(\"Sum of Even Numbers:\", sum_even)\n",
    "print(\"Sum of Odd Numbers:\", sum_odd)\n"
   ]
  },
  {
   "cell_type": "code",
   "execution_count": 27,
   "id": "72c3cd41-902b-4e39-8218-ddb0baf95d09",
   "metadata": {},
   "outputs": [
    {
     "name": "stdout",
     "output_type": "stream",
     "text": [
      "List of Squares of Odd Numbers: [1, 9, 25, 49, 81]\n"
     ]
    }
   ],
   "source": [
    "squares_of_odd_numbers = [num**2 for num in range(1, 11) if num % 2 != 0]\n",
    "print(\"List of Squares of Odd Numbers:\", squares_of_odd_numbers)\n"
   ]
  },
  {
   "cell_type": "code",
   "execution_count": 28,
   "id": "e51a233c-42f8-4f0b-a22f-abeb6bcf99b1",
   "metadata": {},
   "outputs": [
    {
     "name": "stdout",
     "output_type": "stream",
     "text": [
      "Combined Dictionary: {'name': 'John', 'age': 25, 'city': 'New York'}\n"
     ]
    }
   ],
   "source": [
    "keys = ['name', 'age', 'city']\n",
    "values = ['John', 25, 'New York']\n",
    "\n",
    "\n",
    "combined_dict = {keys[i]: values[i] for i in range(min(len(keys), len(values)))}\n",
    "\n",
    "print(\"Combined Dictionary:\", combined_dict)\n"
   ]
  },
  {
   "cell_type": "code",
   "execution_count": 29,
   "id": "9e6c6e49-5091-4395-885f-ce6ded31cf06",
   "metadata": {},
   "outputs": [
    {
     "name": "stdin",
     "output_type": "stream",
     "text": [
      "Enter a string:  beenajoy\n"
     ]
    },
    {
     "name": "stdout",
     "output_type": "stream",
     "text": [
      "Original String: beenajoy\n",
      "Vowels in the String: ['e', 'e', 'a', 'o']\n"
     ]
    }
   ],
   "source": [
    "def is_vowel(char):\n",
    "    vowels = \"aeiouAEIOU\"\n",
    "    return char in vowels\n",
    "\n",
    "\n",
    "input_string = input(\"Enter a string: \")\n",
    "\n",
    "\n",
    "vowels_list = [char for char in input_string if is_vowel(char)]\n",
    "\n",
    "\n",
    "print(\"Original String:\", input_string)\n",
    "print(\"Vowels in the String:\", vowels_list)\n"
   ]
  },
  {
   "cell_type": "code",
   "execution_count": 30,
   "id": "73d2d2bc-eca4-49ff-a123-9f77b13693d6",
   "metadata": {},
   "outputs": [
    {
     "name": "stdout",
     "output_type": "stream",
     "text": [
      "Original List of Strings: ['MJ111', '092JJ', '10BEE', 'BA123']\n",
      "List of Numeric Strings: ['111', '092', '10', '123']\n"
     ]
    }
   ],
   "source": [
    "string_list = ['MJ111', '092JJ', '10BEE', 'BA123']\n",
    "\n",
    "\n",
    "numeric_strings = [''.join(char for char in string if char.isnumeric()) for string in string_list]\n",
    "\n",
    "\n",
    "print(\"Original List of Strings:\", string_list)\n",
    "print(\"List of Numeric Strings:\", numeric_strings)\n"
   ]
  },
  {
   "cell_type": "code",
   "execution_count": 31,
   "id": "1c1ad56b-8243-4b37-8d72-092f78122198",
   "metadata": {},
   "outputs": [
    {
     "name": "stdin",
     "output_type": "stream",
     "text": [
      "Enter the limit for prime numbers:  2\n"
     ]
    },
    {
     "name": "stdout",
     "output_type": "stream",
     "text": [
      "Prime numbers up to 2: [2]\n"
     ]
    }
   ],
   "source": [
    "def sieve_of_eratosthenes(limit):\n",
    "    primes = [True] * (limit + 1)\n",
    "    primes[0] = primes[1] = False\n",
    "    \n",
    "    for i in range(2, int(limit**0.5) + 1):\n",
    "        if primes[i]:\n",
    "            primes[i*i : limit+1 : i] = [False] * len(primes[i*i : limit+1 : i])\n",
    "\n",
    "    return [num for num in range(2, limit + 1) if primes[num]]\n",
    "\n",
    "\n",
    "limit = int(input(\"Enter the limit for prime numbers: \"))\n",
    "\n",
    "\n",
    "prime_numbers = sieve_of_eratosthenes(limit)\n",
    "\n",
    "\n",
    "print(f\"Prime numbers up to {limit}: {prime_numbers}\")\n"
   ]
  },
  {
   "cell_type": "code",
   "execution_count": 32,
   "id": "f139d49f-3463-4deb-92ac-e2d9dd1fd380",
   "metadata": {},
   "outputs": [
    {
     "name": "stdin",
     "output_type": "stream",
     "text": [
      "Enter the limit for Pythagorean triplets:  2\n"
     ]
    },
    {
     "name": "stdout",
     "output_type": "stream",
     "text": [
      "Pythagorean triplets up to 2: []\n"
     ]
    }
   ],
   "source": [
    "def is_pythagorean_triplet(a, b, c):\n",
    "    return a**2 + b**2 == c**2\n",
    "\n",
    "limit = int(input(\"Enter the limit for Pythagorean triplets: \"))\n",
    "\n",
    "pythagorean_triplets = [(a, b, c) for a in range(1, limit + 1) for b in range(a, limit + 1) for c in range(b, limit + 1) if is_pythagorean_triplet(a, b, c)]\n",
    "\n",
    "\n",
    "print(f\"Pythagorean triplets up to {limit}: {pythagorean_triplets}\")\n"
   ]
  },
  {
   "cell_type": "code",
   "execution_count": 33,
   "id": "dffbcd41-38fb-45e3-8b0a-1f22f3c92311",
   "metadata": {},
   "outputs": [
    {
     "name": "stdout",
     "output_type": "stream",
     "text": [
      "List 1: ['a', 'b', 'c']\n",
      "List 2: [1, 2, 3]\n",
      "All Possible Combinations: [('a', 1), ('a', 2), ('a', 3), ('b', 1), ('b', 2), ('b', 3), ('c', 1), ('c', 2), ('c', 3)]\n"
     ]
    }
   ],
   "source": [
    "list1 = ['a', 'b', 'c']\n",
    "list2 = [1, 2, 3]\n",
    "\n",
    "combinations = [(elem1, elem2) for elem1 in list1 for elem2 in list2]\n",
    "\n",
    "print(\"List 1:\", list1)\n",
    "print(\"List 2:\", list2)\n",
    "print(\"All Possible Combinations:\", combinations)"
   ]
  },
  {
   "cell_type": "code",
   "execution_count": 34,
   "id": "33faef97-4fb3-4c39-ba67-b6e3aaab5fa5",
   "metadata": {},
   "outputs": [
    {
     "name": "stdout",
     "output_type": "stream",
     "text": [
      "Original List of Numbers: [2, 4, 6, 8, 4, 10, 6, 6]\n",
      "Mean: 5.75\n",
      "Median: 6.0\n",
      "Mode: 6\n"
     ]
    }
   ],
   "source": [
    "from statistics import mean, median, mode\n",
    "\n",
    "numbers = [2, 4, 6, 8, 4, 10, 6, 6]\n",
    "\n",
    "mean_value = mean(numbers)\n",
    "median_value = median(numbers)\n",
    "mode_value = mode(numbers)\n",
    "\n",
    "\n",
    "print(\"Original List of Numbers:\", numbers)\n",
    "print(\"Mean:\", mean_value)\n",
    "print(\"Median:\", median_value)\n",
    "print(\"Mode:\", mode_value)\n"
   ]
  },
  {
   "cell_type": "code",
   "execution_count": 35,
   "id": "29b5489b-1c00-4ec4-82cc-71773b4f0a79",
   "metadata": {},
   "outputs": [
    {
     "name": "stdin",
     "output_type": "stream",
     "text": [
      "Enter the number of rows for Pascal's triangle:  2\n"
     ]
    },
    {
     "name": "stdout",
     "output_type": "stream",
     "text": [
      "Pascal's triangle with (num_rows) rows:\n",
      "[1]\n",
      "[1, 1]\n"
     ]
    }
   ],
   "source": [
    "def generate_pascals_triangle(num_rows):\n",
    "    triangle = [[1] if i == 0 else [1, 1] if i == 1 else [1] + [sum(pair) for pair in zip(triangle[-1], triangle[-1][1:])] + [1] for i in range(num_rows)]\n",
    "    return triangle\n",
    "num_rows = int(input(\"Enter the number of rows for Pascal's triangle: \"))\n",
    "\n",
    "pascals_triangle = generate_pascals_triangle(num_rows)\n",
    "\n",
    "print(f\"Pascal's triangle with (num_rows) rows:\")\n",
    "for row in pascals_triangle:\n",
    "    print(row)\n"
   ]
  },
  {
   "cell_type": "code",
   "execution_count": 36,
   "id": "2b17acd3-20e4-4e6e-8b5d-9045d595c530",
   "metadata": {},
   "outputs": [
    {
     "ename": "TypeError",
     "evalue": "'int' object is not callable",
     "output_type": "error",
     "traceback": [
      "\u001b[0;31m---------------------------------------------------------------------------\u001b[0m",
      "\u001b[0;31mTypeError\u001b[0m                                 Traceback (most recent call last)",
      "Cell \u001b[0;32mIn[36], line 7\u001b[0m\n\u001b[1;32m      4\u001b[0m \u001b[38;5;28;01mdef\u001b[39;00m \u001b[38;5;21msum_of_digits\u001b[39m(number):\n\u001b[1;32m      5\u001b[0m     \u001b[38;5;28;01mreturn\u001b[39;00m \u001b[38;5;28msum\u001b[39m(\u001b[38;5;28mint\u001b[39m(digit) \u001b[38;5;28;01mfor\u001b[39;00m digit \u001b[38;5;129;01min\u001b[39;00m \u001b[38;5;28mstr\u001b[39m(number))\n\u001b[0;32m----> 7\u001b[0m results \u001b[38;5;241m=\u001b[39m [sum_of_digits(factorial(i)) \u001b[38;5;28;01mfor\u001b[39;00m i \u001b[38;5;129;01min\u001b[39;00m \u001b[38;5;28mrange\u001b[39m(\u001b[38;5;241m1\u001b[39m, \u001b[38;5;241m6\u001b[39m)]\n\u001b[1;32m      9\u001b[0m \u001b[38;5;28mprint\u001b[39m(\u001b[38;5;124m\"\u001b[39m\u001b[38;5;124mFactorials and Sum of Digits:\u001b[39m\u001b[38;5;124m\"\u001b[39m)\n\u001b[1;32m     10\u001b[0m \u001b[38;5;28;01mfor\u001b[39;00m i, result \u001b[38;5;129;01min\u001b[39;00m \u001b[38;5;28menumerate\u001b[39m(results, start\u001b[38;5;241m=\u001b[39m\u001b[38;5;241m1\u001b[39m):\n",
      "Cell \u001b[0;32mIn[36], line 7\u001b[0m, in \u001b[0;36m<listcomp>\u001b[0;34m(.0)\u001b[0m\n\u001b[1;32m      4\u001b[0m \u001b[38;5;28;01mdef\u001b[39;00m \u001b[38;5;21msum_of_digits\u001b[39m(number):\n\u001b[1;32m      5\u001b[0m     \u001b[38;5;28;01mreturn\u001b[39;00m \u001b[38;5;28msum\u001b[39m(\u001b[38;5;28mint\u001b[39m(digit) \u001b[38;5;28;01mfor\u001b[39;00m digit \u001b[38;5;129;01min\u001b[39;00m \u001b[38;5;28mstr\u001b[39m(number))\n\u001b[0;32m----> 7\u001b[0m results \u001b[38;5;241m=\u001b[39m [\u001b[43msum_of_digits\u001b[49m\u001b[43m(\u001b[49m\u001b[43mfactorial\u001b[49m\u001b[43m(\u001b[49m\u001b[43mi\u001b[49m\u001b[43m)\u001b[49m\u001b[43m)\u001b[49m \u001b[38;5;28;01mfor\u001b[39;00m i \u001b[38;5;129;01min\u001b[39;00m \u001b[38;5;28mrange\u001b[39m(\u001b[38;5;241m1\u001b[39m, \u001b[38;5;241m6\u001b[39m)]\n\u001b[1;32m      9\u001b[0m \u001b[38;5;28mprint\u001b[39m(\u001b[38;5;124m\"\u001b[39m\u001b[38;5;124mFactorials and Sum of Digits:\u001b[39m\u001b[38;5;124m\"\u001b[39m)\n\u001b[1;32m     10\u001b[0m \u001b[38;5;28;01mfor\u001b[39;00m i, result \u001b[38;5;129;01min\u001b[39;00m \u001b[38;5;28menumerate\u001b[39m(results, start\u001b[38;5;241m=\u001b[39m\u001b[38;5;241m1\u001b[39m):\n",
      "Cell \u001b[0;32mIn[36], line 5\u001b[0m, in \u001b[0;36msum_of_digits\u001b[0;34m(number)\u001b[0m\n\u001b[1;32m      4\u001b[0m \u001b[38;5;28;01mdef\u001b[39;00m \u001b[38;5;21msum_of_digits\u001b[39m(number):\n\u001b[0;32m----> 5\u001b[0m     \u001b[38;5;28;01mreturn\u001b[39;00m \u001b[38;5;28;43msum\u001b[39;49m\u001b[43m(\u001b[49m\u001b[38;5;28;43mint\u001b[39;49m\u001b[43m(\u001b[49m\u001b[43mdigit\u001b[49m\u001b[43m)\u001b[49m\u001b[43m \u001b[49m\u001b[38;5;28;43;01mfor\u001b[39;49;00m\u001b[43m \u001b[49m\u001b[43mdigit\u001b[49m\u001b[43m \u001b[49m\u001b[38;5;129;43;01min\u001b[39;49;00m\u001b[43m \u001b[49m\u001b[38;5;28;43mstr\u001b[39;49m\u001b[43m(\u001b[49m\u001b[43mnumber\u001b[49m\u001b[43m)\u001b[49m\u001b[43m)\u001b[49m\n",
      "\u001b[0;31mTypeError\u001b[0m: 'int' object is not callable"
     ]
    }
   ],
   "source": [
    "def factorial(n):\n",
    "    return 1 if n == 0 else n * factorial(n-1)\n",
    "\n",
    "def sum_of_digits(number):\n",
    "    return sum(int(digit) for digit in str(number))\n",
    "\n",
    "results = [sum_of_digits(factorial(i)) for i in range(1, 6)]\n",
    "\n",
    "print(\"Factorials and Sum of Digits:\")\n",
    "for i, result in enumerate(results, start=1):\n",
    "    print(f\"{i}! = {factorial(i)}, Sum of Digits = {result}\")\n"
   ]
  },
  {
   "cell_type": "code",
   "execution_count": 37,
   "id": "c0ed0568-83a2-4961-b656-36e64b7f755e",
   "metadata": {},
   "outputs": [
    {
     "name": "stdin",
     "output_type": "stream",
     "text": [
      "Enter a sentence:  mariya is tired\n"
     ]
    },
    {
     "name": "stdout",
     "output_type": "stream",
     "text": [
      "The longest word in the sentence is: mariya\n"
     ]
    }
   ],
   "source": [
    "def longest_word(sentence):\n",
    "    words = sentence.split()\n",
    "    longest = max(words, key=len)\n",
    "    return longest\n",
    "\n",
    "input_sentence = input(\"Enter a sentence: \")\n",
    "\n",
    "result = longest_word(input_sentence)\n",
    "print(f\"The longest word in the sentence is: {result}\")\n"
   ]
  },
  {
   "cell_type": "code",
   "execution_count": 38,
   "id": "86949e30-f9d5-4ef9-98bd-d76a184b3ebe",
   "metadata": {},
   "outputs": [
    {
     "ename": "TypeError",
     "evalue": "'int' object is not callable",
     "output_type": "error",
     "traceback": [
      "\u001b[0;31m---------------------------------------------------------------------------\u001b[0m",
      "\u001b[0;31mTypeError\u001b[0m                                 Traceback (most recent call last)",
      "Cell \u001b[0;32mIn[38], line 7\u001b[0m\n\u001b[1;32m      3\u001b[0m     \u001b[38;5;28;01mreturn\u001b[39;00m \u001b[38;5;28msum\u001b[39m(\u001b[38;5;241m1\u001b[39m \u001b[38;5;28;01mfor\u001b[39;00m char \u001b[38;5;129;01min\u001b[39;00m word \u001b[38;5;28;01mif\u001b[39;00m char \u001b[38;5;129;01min\u001b[39;00m vowels)\n\u001b[1;32m      4\u001b[0m string_list \u001b[38;5;241m=\u001b[39m [\u001b[38;5;124m'\u001b[39m\u001b[38;5;124mmariya\u001b[39m\u001b[38;5;124m'\u001b[39m, \u001b[38;5;124m'\u001b[39m\u001b[38;5;124mkerala\u001b[39m\u001b[38;5;124m'\u001b[39m, \u001b[38;5;124m'\u001b[39m\u001b[38;5;124mindia\u001b[39m\u001b[38;5;124m'\u001b[39m, \u001b[38;5;124m'\u001b[39m\u001b[38;5;124mcoding\u001b[39m\u001b[38;5;124m'\u001b[39m, \u001b[38;5;124m'\u001b[39m\u001b[38;5;124mresult\u001b[39m\u001b[38;5;124m'\u001b[39m]\n\u001b[0;32m----> 7\u001b[0m filtered_strings \u001b[38;5;241m=\u001b[39m [word \u001b[38;5;28;01mfor\u001b[39;00m word \u001b[38;5;129;01min\u001b[39;00m string_list \u001b[38;5;28;01mif\u001b[39;00m count_vowels(word) \u001b[38;5;241m>\u001b[39m \u001b[38;5;241m3\u001b[39m]\n\u001b[1;32m      9\u001b[0m \u001b[38;5;28mprint\u001b[39m(\u001b[38;5;124m\"\u001b[39m\u001b[38;5;124mOriginal List of Strings:\u001b[39m\u001b[38;5;124m\"\u001b[39m, string_list)\n\u001b[1;32m     10\u001b[0m \u001b[38;5;28mprint\u001b[39m(\u001b[38;5;124m\"\u001b[39m\u001b[38;5;124mFiltered Strings with More than Three Vowels:\u001b[39m\u001b[38;5;124m\"\u001b[39m, filtered_strings)\n",
      "Cell \u001b[0;32mIn[38], line 7\u001b[0m, in \u001b[0;36m<listcomp>\u001b[0;34m(.0)\u001b[0m\n\u001b[1;32m      3\u001b[0m     \u001b[38;5;28;01mreturn\u001b[39;00m \u001b[38;5;28msum\u001b[39m(\u001b[38;5;241m1\u001b[39m \u001b[38;5;28;01mfor\u001b[39;00m char \u001b[38;5;129;01min\u001b[39;00m word \u001b[38;5;28;01mif\u001b[39;00m char \u001b[38;5;129;01min\u001b[39;00m vowels)\n\u001b[1;32m      4\u001b[0m string_list \u001b[38;5;241m=\u001b[39m [\u001b[38;5;124m'\u001b[39m\u001b[38;5;124mmariya\u001b[39m\u001b[38;5;124m'\u001b[39m, \u001b[38;5;124m'\u001b[39m\u001b[38;5;124mkerala\u001b[39m\u001b[38;5;124m'\u001b[39m, \u001b[38;5;124m'\u001b[39m\u001b[38;5;124mindia\u001b[39m\u001b[38;5;124m'\u001b[39m, \u001b[38;5;124m'\u001b[39m\u001b[38;5;124mcoding\u001b[39m\u001b[38;5;124m'\u001b[39m, \u001b[38;5;124m'\u001b[39m\u001b[38;5;124mresult\u001b[39m\u001b[38;5;124m'\u001b[39m]\n\u001b[0;32m----> 7\u001b[0m filtered_strings \u001b[38;5;241m=\u001b[39m [word \u001b[38;5;28;01mfor\u001b[39;00m word \u001b[38;5;129;01min\u001b[39;00m string_list \u001b[38;5;28;01mif\u001b[39;00m \u001b[43mcount_vowels\u001b[49m\u001b[43m(\u001b[49m\u001b[43mword\u001b[49m\u001b[43m)\u001b[49m \u001b[38;5;241m>\u001b[39m \u001b[38;5;241m3\u001b[39m]\n\u001b[1;32m      9\u001b[0m \u001b[38;5;28mprint\u001b[39m(\u001b[38;5;124m\"\u001b[39m\u001b[38;5;124mOriginal List of Strings:\u001b[39m\u001b[38;5;124m\"\u001b[39m, string_list)\n\u001b[1;32m     10\u001b[0m \u001b[38;5;28mprint\u001b[39m(\u001b[38;5;124m\"\u001b[39m\u001b[38;5;124mFiltered Strings with More than Three Vowels:\u001b[39m\u001b[38;5;124m\"\u001b[39m, filtered_strings)\n",
      "Cell \u001b[0;32mIn[38], line 3\u001b[0m, in \u001b[0;36mcount_vowels\u001b[0;34m(word)\u001b[0m\n\u001b[1;32m      1\u001b[0m \u001b[38;5;28;01mdef\u001b[39;00m \u001b[38;5;21mcount_vowels\u001b[39m(word):\n\u001b[1;32m      2\u001b[0m     vowels \u001b[38;5;241m=\u001b[39m \u001b[38;5;124m\"\u001b[39m\u001b[38;5;124maeiouAEIOU\u001b[39m\u001b[38;5;124m\"\u001b[39m\n\u001b[0;32m----> 3\u001b[0m     \u001b[38;5;28;01mreturn\u001b[39;00m \u001b[38;5;28;43msum\u001b[39;49m\u001b[43m(\u001b[49m\u001b[38;5;241;43m1\u001b[39;49m\u001b[43m \u001b[49m\u001b[38;5;28;43;01mfor\u001b[39;49;00m\u001b[43m \u001b[49m\u001b[43mchar\u001b[49m\u001b[43m \u001b[49m\u001b[38;5;129;43;01min\u001b[39;49;00m\u001b[43m \u001b[49m\u001b[43mword\u001b[49m\u001b[43m \u001b[49m\u001b[38;5;28;43;01mif\u001b[39;49;00m\u001b[43m \u001b[49m\u001b[43mchar\u001b[49m\u001b[43m \u001b[49m\u001b[38;5;129;43;01min\u001b[39;49;00m\u001b[43m \u001b[49m\u001b[43mvowels\u001b[49m\u001b[43m)\u001b[49m\n",
      "\u001b[0;31mTypeError\u001b[0m: 'int' object is not callable"
     ]
    }
   ],
   "source": [
    "def count_vowels(word):\n",
    "    vowels = \"aeiouAEIOU\"\n",
    "    return sum(1 for char in word if char in vowels)\n",
    "string_list = ['mariya', 'kerala', 'india', 'coding', 'result']\n",
    "\n",
    "\n",
    "filtered_strings = [word for word in string_list if count_vowels(word) > 3]\n",
    "\n",
    "print(\"Original List of Strings:\", string_list)\n",
    "print(\"Filtered Strings with More than Three Vowels:\", filtered_strings)\n",
    "\n"
   ]
  },
  {
   "cell_type": "code",
   "execution_count": 39,
   "id": "24a27324-3cd7-41ff-950d-beee14c1825a",
   "metadata": {},
   "outputs": [
    {
     "ename": "TypeError",
     "evalue": "'int' object is not callable",
     "output_type": "error",
     "traceback": [
      "\u001b[0;31m---------------------------------------------------------------------------\u001b[0m",
      "\u001b[0;31mTypeError\u001b[0m                                 Traceback (most recent call last)",
      "Cell \u001b[0;32mIn[39], line 4\u001b[0m\n\u001b[1;32m      1\u001b[0m \u001b[38;5;28;01mdef\u001b[39;00m \u001b[38;5;21msum_of_digits\u001b[39m(number):\n\u001b[1;32m      2\u001b[0m     \u001b[38;5;28;01mreturn\u001b[39;00m \u001b[38;5;28msum\u001b[39m(\u001b[38;5;28mint\u001b[39m(digit) \u001b[38;5;28;01mfor\u001b[39;00m digit \u001b[38;5;129;01min\u001b[39;00m \u001b[38;5;28mstr\u001b[39m(number))\n\u001b[0;32m----> 4\u001b[0m sums_list \u001b[38;5;241m=\u001b[39m [sum_of_digits(num) \u001b[38;5;28;01mfor\u001b[39;00m num \u001b[38;5;129;01min\u001b[39;00m \u001b[38;5;28mrange\u001b[39m(\u001b[38;5;241m1\u001b[39m, \u001b[38;5;241m1001\u001b[39m)]\n\u001b[1;32m      6\u001b[0m \u001b[38;5;28mprint\u001b[39m(\u001b[38;5;124m\"\u001b[39m\u001b[38;5;124mSum of Digits for Numbers from 1 to 10:\u001b[39m\u001b[38;5;124m\"\u001b[39m, sums_list[:\u001b[38;5;241m10\u001b[39m])\n",
      "Cell \u001b[0;32mIn[39], line 4\u001b[0m, in \u001b[0;36m<listcomp>\u001b[0;34m(.0)\u001b[0m\n\u001b[1;32m      1\u001b[0m \u001b[38;5;28;01mdef\u001b[39;00m \u001b[38;5;21msum_of_digits\u001b[39m(number):\n\u001b[1;32m      2\u001b[0m     \u001b[38;5;28;01mreturn\u001b[39;00m \u001b[38;5;28msum\u001b[39m(\u001b[38;5;28mint\u001b[39m(digit) \u001b[38;5;28;01mfor\u001b[39;00m digit \u001b[38;5;129;01min\u001b[39;00m \u001b[38;5;28mstr\u001b[39m(number))\n\u001b[0;32m----> 4\u001b[0m sums_list \u001b[38;5;241m=\u001b[39m [\u001b[43msum_of_digits\u001b[49m\u001b[43m(\u001b[49m\u001b[43mnum\u001b[49m\u001b[43m)\u001b[49m \u001b[38;5;28;01mfor\u001b[39;00m num \u001b[38;5;129;01min\u001b[39;00m \u001b[38;5;28mrange\u001b[39m(\u001b[38;5;241m1\u001b[39m, \u001b[38;5;241m1001\u001b[39m)]\n\u001b[1;32m      6\u001b[0m \u001b[38;5;28mprint\u001b[39m(\u001b[38;5;124m\"\u001b[39m\u001b[38;5;124mSum of Digits for Numbers from 1 to 10:\u001b[39m\u001b[38;5;124m\"\u001b[39m, sums_list[:\u001b[38;5;241m10\u001b[39m])\n",
      "Cell \u001b[0;32mIn[39], line 2\u001b[0m, in \u001b[0;36msum_of_digits\u001b[0;34m(number)\u001b[0m\n\u001b[1;32m      1\u001b[0m \u001b[38;5;28;01mdef\u001b[39;00m \u001b[38;5;21msum_of_digits\u001b[39m(number):\n\u001b[0;32m----> 2\u001b[0m     \u001b[38;5;28;01mreturn\u001b[39;00m \u001b[38;5;28;43msum\u001b[39;49m\u001b[43m(\u001b[49m\u001b[38;5;28;43mint\u001b[39;49m\u001b[43m(\u001b[49m\u001b[43mdigit\u001b[49m\u001b[43m)\u001b[49m\u001b[43m \u001b[49m\u001b[38;5;28;43;01mfor\u001b[39;49;00m\u001b[43m \u001b[49m\u001b[43mdigit\u001b[49m\u001b[43m \u001b[49m\u001b[38;5;129;43;01min\u001b[39;49;00m\u001b[43m \u001b[49m\u001b[38;5;28;43mstr\u001b[39;49m\u001b[43m(\u001b[49m\u001b[43mnumber\u001b[49m\u001b[43m)\u001b[49m\u001b[43m)\u001b[49m\n",
      "\u001b[0;31mTypeError\u001b[0m: 'int' object is not callable"
     ]
    }
   ],
   "source": [
    "def sum_of_digits(number):\n",
    "    return sum(int(digit) for digit in str(number))\n",
    "\n",
    "sums_list = [sum_of_digits(num) for num in range(1, 1001)]\n",
    "\n",
    "print(\"Sum of Digits for Numbers from 1 to 10:\", sums_list[:10])\n"
   ]
  },
  {
   "cell_type": "code",
   "execution_count": 40,
   "id": "107792e0-0544-4ab9-9c7c-aa50bfe85730",
   "metadata": {},
   "outputs": [
    {
     "name": "stdout",
     "output_type": "stream",
     "text": [
      "Prime Palindromic Numbers up to 1000: [2, 3, 5, 7, 11, 101, 131, 151, 181, 191, 313, 353, 373, 383, 727, 757, 787, 797, 919, 929]\n"
     ]
    }
   ],
   "source": [
    "def is_prime(num):\n",
    "    if num < 2:\n",
    "        return False\n",
    "    for i in range(2, int(num**0.5) + 1):\n",
    "        if num % i == 0:\n",
    "            return False\n",
    "    return True\n",
    "\n",
    "def is_palindrome(num):\n",
    "    return str(num) == str(num)[::-1]\n",
    "\n",
    "prime_palindromes = [num for num in range(1, 1001) if is_prime(num) and is_palindrome(num)]\n",
    "\n",
    "print(\"Prime Palindromic Numbers up to 1000:\", prime_palindromes)\n"
   ]
  }
 ],
 "metadata": {
  "kernelspec": {
   "display_name": "Python 3 (ipykernel)",
   "language": "python",
   "name": "python3"
  },
  "language_info": {
   "codemirror_mode": {
    "name": "ipython",
    "version": 3
   },
   "file_extension": ".py",
   "mimetype": "text/x-python",
   "name": "python",
   "nbconvert_exporter": "python",
   "pygments_lexer": "ipython3",
   "version": "3.10.8"
  }
 },
 "nbformat": 4,
 "nbformat_minor": 5
}
